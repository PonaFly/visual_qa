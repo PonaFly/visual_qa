{
 "cells": [
  {
   "cell_type": "code",
   "execution_count": 1,
   "metadata": {
    "scrolled": true
   },
   "outputs": [
    {
     "name": "stdout",
     "output_type": "stream",
     "text": [
      "Populating the interactive namespace from numpy and matplotlib\n"
     ]
    }
   ],
   "source": [
    "%pylab inline\n",
    "from sklearn.datasets import load_wine\n",
    "import pandas as pd\n",
    "import os\n",
    "import json"
   ]
  },
  {
   "cell_type": "code",
   "execution_count": 2,
   "metadata": {},
   "outputs": [],
   "source": [
    "def load_json(path):\n",
    "    with open(path) as f:\n",
    "        return json.load(f)"
   ]
  },
  {
   "cell_type": "markdown",
   "metadata": {},
   "source": [
    "## Get all image ids"
   ]
  },
  {
   "cell_type": "code",
   "execution_count": 3,
   "metadata": {},
   "outputs": [
    {
     "data": {
      "text/plain": [
       "2809"
      ]
     },
     "execution_count": 3,
     "metadata": {},
     "output_type": "execute_result"
    }
   ],
   "source": [
    "img_path = os.path.join('data', 'images')\n",
    "img_names = next(os.walk(img_path))[2]\n",
    "img_ids = [int(img_name.split('.')[0].split('_')[2])\n",
    "           for img_name in img_names]\n",
    "img_ids.sort()\n",
    "len(img_ids)"
   ]
  },
  {
   "cell_type": "markdown",
   "metadata": {},
   "source": [
    "## Get questions"
   ]
  },
  {
   "cell_type": "code",
   "execution_count": 89,
   "metadata": {},
   "outputs": [],
   "source": [
    "question_path = os.path.join('data', 'coco_questions.json')\n",
    "with open(question_path) as f:\n",
    "    questions_data = json.load(f)\n",
    "    questions = questions_data['questions']"
   ]
  },
  {
   "cell_type": "markdown",
   "metadata": {},
   "source": [
    "## Filter questions by having images"
   ]
  },
  {
   "cell_type": "code",
   "execution_count": 90,
   "metadata": {},
   "outputs": [
    {
     "data": {
      "text/plain": [
       "(14869, 2809)"
      ]
     },
     "execution_count": 90,
     "metadata": {},
     "output_type": "execute_result"
    }
   ],
   "source": [
    "questions.sort(key=lambda x: x['image_id'])\n",
    "filtered_questions = list(filter(lambda x: x['image_id'] in img_ids, questions))\n",
    "\n",
    "question_ids = [question['question_id'] for question in filtered_questions]\n",
    "len(filtered_questions), len(img_ids)"
   ]
  },
  {
   "cell_type": "markdown",
   "metadata": {},
   "source": [
    "## Get answers"
   ]
  },
  {
   "cell_type": "code",
   "execution_count": 3,
   "metadata": {},
   "outputs": [
    {
     "data": {
      "text/plain": [
       "dict_keys(['info', 'license', 'data_subtype', 'annotations', 'data_type'])"
      ]
     },
     "execution_count": 3,
     "metadata": {},
     "output_type": "execute_result"
    }
   ],
   "source": [
    "answer_path = os.path.join('data', 'coco_answers.json')\n",
    "with open(answer_path) as f:\n",
    "    answers_data = json.load(f)\n",
    "answers_data.keys()"
   ]
  },
  {
   "cell_type": "code",
   "execution_count": 9,
   "metadata": {},
   "outputs": [],
   "source": [
    "x = {a['answer_type'] for a in answers_data['annotations']}"
   ]
  },
  {
   "cell_type": "code",
   "execution_count": 10,
   "metadata": {},
   "outputs": [
    {
     "data": {
      "text/plain": [
       "{'number', 'other', 'yes/no'}"
      ]
     },
     "execution_count": 10,
     "metadata": {},
     "output_type": "execute_result"
    }
   ],
   "source": [
    "x"
   ]
  },
  {
   "cell_type": "code",
   "execution_count": 11,
   "metadata": {},
   "outputs": [],
   "source": [
    "bool_answers = [answer\n",
    "    for answer in answers_data['annotations']\n",
    "    if answer['multiple_choice_answer'] in {'yes', 'no'}\n",
    "]"
   ]
  },
  {
   "cell_type": "code",
   "execution_count": 13,
   "metadata": {},
   "outputs": [
    {
     "data": {
      "text/plain": [
       "{'answer_type': 'yes/no',\n",
       " 'answers': [{'answer': 'yes', 'answer_confidence': 'yes', 'answer_id': 1},\n",
       "  {'answer': 'yes', 'answer_confidence': 'yes', 'answer_id': 2},\n",
       "  {'answer': 'yes', 'answer_confidence': 'maybe', 'answer_id': 3},\n",
       "  {'answer': 'yes', 'answer_confidence': 'yes', 'answer_id': 4},\n",
       "  {'answer': 'yes', 'answer_confidence': 'maybe', 'answer_id': 5},\n",
       "  {'answer': 'no', 'answer_confidence': 'maybe', 'answer_id': 6},\n",
       "  {'answer': 'yes', 'answer_confidence': 'yes', 'answer_id': 7},\n",
       "  {'answer': 'yes', 'answer_confidence': 'yes', 'answer_id': 8},\n",
       "  {'answer': 'yes', 'answer_confidence': 'yes', 'answer_id': 9},\n",
       "  {'answer': 'yes', 'answer_confidence': 'maybe', 'answer_id': 10}],\n",
       " 'image_id': 458752,\n",
       " 'multiple_choice_answer': 'yes',\n",
       " 'question_id': 458752003,\n",
       " 'question_type': 'is this'}"
      ]
     },
     "execution_count": 13,
     "metadata": {},
     "output_type": "execute_result"
    }
   ],
   "source": [
    "bool_answers[0]"
   ]
  },
  {
   "cell_type": "code",
   "execution_count": null,
   "metadata": {},
   "outputs": [],
   "source": [
    "res = []\n",
    "for a in bool_answers:\n",
    "    a[]"
   ]
  },
  {
   "cell_type": "code",
   "execution_count": 77,
   "metadata": {},
   "outputs": [
    {
     "data": {
      "text/plain": [
       "5485"
      ]
     },
     "execution_count": 77,
     "metadata": {},
     "output_type": "execute_result"
    }
   ],
   "source": [
    "filtered_answers = list(filter(lambda x: x['image_id'] in img_ids, answers_data['annotations']))\n",
    "filtered_bool_answers = [answer\n",
    "    for answer in filtered_answers\n",
    "    if answer['multiple_choice_answer'] in {'yes', 'no'}\n",
    "]\n",
    "len(bool_answers)"
   ]
  },
  {
   "cell_type": "markdown",
   "metadata": {},
   "source": [
    "## Captions"
   ]
  },
  {
   "cell_type": "code",
   "execution_count": 4,
   "metadata": {},
   "outputs": [],
   "source": [
    "captions = load_json('data/captions_train2014.json')\n",
    "filtered_captions = list(filter(lambda x: x['image_id'] in img_ids, captions['annotations']))\n",
    "filtered_captions.sort(key=lambda x: x['image_id'])"
   ]
  },
  {
   "cell_type": "code",
   "execution_count": 17,
   "metadata": {},
   "outputs": [
    {
     "data": {
      "text/plain": [
       "14053"
      ]
     },
     "execution_count": 17,
     "metadata": {},
     "output_type": "execute_result"
    }
   ],
   "source": [
    "len(filtered_captions)"
   ]
  },
  {
   "cell_type": "code",
   "execution_count": 83,
   "metadata": {},
   "outputs": [],
   "source": [
    "caption_df = pd.DataFrame(captions['annotations'])"
   ]
  },
  {
   "cell_type": "code",
   "execution_count": 84,
   "metadata": {},
   "outputs": [
    {
     "data": {
      "text/plain": [
       "259.0"
      ]
     },
     "execution_count": 84,
     "metadata": {},
     "output_type": "execute_result"
    }
   ],
   "source": [
    "joint_captions = caption_df.groupby('image_id').caption.apply(lambda x: ''.join(x.values))\n",
    "joint_captions.apply(len).median()"
   ]
  },
  {
   "cell_type": "code",
   "execution_count": 88,
   "metadata": {},
   "outputs": [
    {
     "data": {
      "text/plain": [
       "(82783,)"
      ]
     },
     "execution_count": 88,
     "metadata": {},
     "output_type": "execute_result"
    }
   ],
   "source": [
    "joint_captions.shape"
   ]
  },
  {
   "cell_type": "markdown",
   "metadata": {},
   "source": [
    "## To dataframe"
   ]
  },
  {
   "cell_type": "code",
   "execution_count": 91,
   "metadata": {},
   "outputs": [],
   "source": [
    "drop_columns = ['answer_type', 'answers', 'question_type']\n",
    "\n",
    "bool_answers_df = pd.DataFrame(bool_answers).drop(drop_columns, axis=1)\n",
    "bool_answers_df.sort_values('image_id')\n",
    "\n",
    "questions_df = pd.DataFrame(questions)\n",
    "\n",
    "q_indexed = questions_df.set_index('question_id')\n",
    "ba_indexed = bool_answers_df.set_index('question_id')"
   ]
  },
  {
   "cell_type": "code",
   "execution_count": 92,
   "metadata": {},
   "outputs": [
    {
     "name": "stdout",
     "output_type": "stream",
     "text": [
      "(167494, 4)\n"
     ]
    },
    {
     "data": {
      "text/html": [
       "<div>\n",
       "<style scoped>\n",
       "    .dataframe tbody tr th:only-of-type {\n",
       "        vertical-align: middle;\n",
       "    }\n",
       "\n",
       "    .dataframe tbody tr th {\n",
       "        vertical-align: top;\n",
       "    }\n",
       "\n",
       "    .dataframe thead th {\n",
       "        text-align: right;\n",
       "    }\n",
       "</style>\n",
       "<table border=\"1\" class=\"dataframe\">\n",
       "  <thead>\n",
       "    <tr style=\"text-align: right;\">\n",
       "      <th></th>\n",
       "      <th>image_id</th>\n",
       "      <th>question_id</th>\n",
       "      <th>question</th>\n",
       "      <th>is_yes</th>\n",
       "      <th>caption</th>\n",
       "    </tr>\n",
       "  </thead>\n",
       "  <tbody>\n",
       "    <tr>\n",
       "      <th>0</th>\n",
       "      <td>25</td>\n",
       "      <td>25002</td>\n",
       "      <td>Could this photo be from a zoo?</td>\n",
       "      <td>True</td>\n",
       "      <td>A giraffe eating food from the top of the tree...</td>\n",
       "    </tr>\n",
       "    <tr>\n",
       "      <th>1</th>\n",
       "      <td>25</td>\n",
       "      <td>25003</td>\n",
       "      <td>Are the animals eating?</td>\n",
       "      <td>True</td>\n",
       "      <td>A giraffe eating food from the top of the tree...</td>\n",
       "    </tr>\n",
       "    <tr>\n",
       "      <th>2</th>\n",
       "      <td>25</td>\n",
       "      <td>25005</td>\n",
       "      <td>Is there a zebra?</td>\n",
       "      <td>False</td>\n",
       "      <td>A giraffe eating food from the top of the tree...</td>\n",
       "    </tr>\n",
       "    <tr>\n",
       "      <th>3</th>\n",
       "      <td>25</td>\n",
       "      <td>25007</td>\n",
       "      <td>Is the giraffe eating the tree?</td>\n",
       "      <td>True</td>\n",
       "      <td>A giraffe eating food from the top of the tree...</td>\n",
       "    </tr>\n",
       "    <tr>\n",
       "      <th>4</th>\n",
       "      <td>25</td>\n",
       "      <td>25008</td>\n",
       "      <td>Are both giraffes standing?</td>\n",
       "      <td>False</td>\n",
       "      <td>A giraffe eating food from the top of the tree...</td>\n",
       "    </tr>\n",
       "  </tbody>\n",
       "</table>\n",
       "</div>"
      ],
      "text/plain": [
       "   image_id  question_id                         question  is_yes  \\\n",
       "0        25        25002  Could this photo be from a zoo?    True   \n",
       "1        25        25003          Are the animals eating?    True   \n",
       "2        25        25005                Is there a zebra?   False   \n",
       "3        25        25007  Is the giraffe eating the tree?    True   \n",
       "4        25        25008      Are both giraffes standing?   False   \n",
       "\n",
       "                                             caption  \n",
       "0  A giraffe eating food from the top of the tree...  \n",
       "1  A giraffe eating food from the top of the tree...  \n",
       "2  A giraffe eating food from the top of the tree...  \n",
       "3  A giraffe eating food from the top of the tree...  \n",
       "4  A giraffe eating food from the top of the tree...  "
      ]
     },
     "execution_count": 92,
     "metadata": {},
     "output_type": "execute_result"
    }
   ],
   "source": [
    "joint = q_indexed[['question']].join(ba_indexed[['multiple_choice_answer']])\n",
    "joint = joint.dropna()\n",
    "\n",
    "joint = joint.join(ba_indexed[['image_id']])\n",
    "joint = joint.reset_index().set_index('image_id')\n",
    "joint = joint.join(joint_captions)\n",
    "\n",
    "joint.rename({'multiple_choice_answer': 'is_yes'}, axis=1, inplace=True)\n",
    "joint.is_yes = joint.is_yes.apply(lambda x: x == 'yes')\n",
    "print(joint.shape)\n",
    "joint.reset_index().head(5)"
   ]
  },
  {
   "cell_type": "markdown",
   "metadata": {},
   "source": [
    "## Save data"
   ]
  },
  {
   "cell_type": "code",
   "execution_count": 93,
   "metadata": {},
   "outputs": [],
   "source": [
    "joint.to_csv(os.path.join('data', 'joint.csv'))"
   ]
  },
  {
   "cell_type": "code",
   "execution_count": 9,
   "metadata": {},
   "outputs": [
    {
     "name": "stderr",
     "output_type": "stream",
     "text": [
      "/usr/lib/python3/dist-packages/ipykernel_launcher.py:7: FutureWarning: The signature of `Series.to_csv` was aligned to that of `DataFrame.to_csv`, and argument 'header' will change its default value from False to True: please pass an explicit value to suppress this warning.\n",
      "  import sys\n"
     ]
    }
   ],
   "source": [
    "with open(os.path.join('data', 'filtered_questions.json'), 'w') as f:\n",
    "    json.dump(filtered_questions, f)\n",
    "\n",
    "with open(os.path.join('data', 'filtered_answers.json'), 'w') as f:\n",
    "    json.dump(filtered_answers, f)\n",
    "\n",
    "joint_captions.to_csv(os.path.join('data', 'filtered_joint_captions.csv'))"
   ]
  }
 ],
 "metadata": {
  "kernelspec": {
   "display_name": "Python 3",
   "language": "python",
   "name": "python3"
  },
  "language_info": {
   "codemirror_mode": {
    "name": "ipython",
    "version": 3
   },
   "file_extension": ".py",
   "mimetype": "text/x-python",
   "name": "python",
   "nbconvert_exporter": "python",
   "pygments_lexer": "ipython3",
   "version": "3.6.7"
  }
 },
 "nbformat": 4,
 "nbformat_minor": 2
}
